{
  "nbformat": 4,
  "nbformat_minor": 0,
  "metadata": {
    "colab": {
      "provenance": [],
      "authorship_tag": "ABX9TyPFlJN6ucEDzcM9+5q1rq/S",
      "include_colab_link": true
    },
    "kernelspec": {
      "name": "python3",
      "display_name": "Python 3"
    },
    "language_info": {
      "name": "python"
    }
  },
  "cells": [
    {
      "cell_type": "markdown",
      "metadata": {
        "id": "view-in-github",
        "colab_type": "text"
      },
      "source": [
        "<a href=\"https://colab.research.google.com/github/correalipe/Betting-Data-Analysis/blob/main/betting_kpis_and_crm_level_analysis_by_sports_competitions.ipynb\" target=\"_parent\"><img src=\"https://colab.research.google.com/assets/colab-badge.svg\" alt=\"Open In Colab\"/></a>"
      ]
    },
    {
      "cell_type": "code",
      "source": [
        "# === 1. Montar Google Drive ===\n",
        "from google.colab import drive\n",
        "drive.mount('/content/drive')"
      ],
      "metadata": {
        "colab": {
          "base_uri": "https://localhost:8080/"
        },
        "id": "lvX1FOQzHDqT",
        "outputId": "c087290e-e468-4049-dfda-9d244d4975c1"
      },
      "execution_count": null,
      "outputs": [
        {
          "output_type": "stream",
          "name": "stdout",
          "text": [
            "Mounted at /content/drive\n"
          ]
        }
      ]
    },
    {
      "cell_type": "code",
      "source": [
        "# === 2. Importar bibliotecas ===\n",
        "!pip install xlsxwriter\n",
        "\n",
        "import pandas as pd\n",
        "import matplotlib.pyplot as plt\n",
        "import xlsxwriter\n",
        "\n",
        "# === 3. Definir caminho base ===\n",
        "base_path = '/content/drive/MyDrive/Task1 - Kaizen Gaming/'\n",
        "\n",
        "# === 4. Carregar os arquivos ===\n",
        "crm_df = pd.read_csv(base_path + 'CRM Level.csv', sep=';')\n",
        "reg_df = pd.read_csv(base_path + 'Registrations.csv', sep=';')\n",
        "sports_df = pd.read_csv(base_path + 'Sportbook.txt', sep=',', encoding='utf-8', engine='python')\n",
        "\n",
        "# === 5. Padronizar nomes de colunas ===\n",
        "crm_df.columns = crm_df.columns.str.strip()\n",
        "reg_df.columns = reg_df.columns.str.strip()\n",
        "sports_df.columns = sports_df.columns.str.strip()\n",
        "\n",
        "# === 6. Renomear colunas necessárias ===\n",
        "crm_df.rename(columns={'SportBetSettled_Customer_ID': 'Customer_ID'}, inplace=True)\n",
        "reg_df.rename(columns={'SportBetSettled_Customer_ID': 'Customer_ID'}, inplace=True)\n",
        "sports_df.rename(columns={'SportBetSettled_Customer_ID': 'Customer_ID'}, inplace=True)\n",
        "\n",
        "# === 7. Tratar datas ===\n",
        "crm_df = crm_df.dropna(subset=['Date_YearMonth'])\n",
        "crm_df['Date_YearMonth'] = crm_df['Date_YearMonth'].astype(str).str.strip()\n",
        "crm_df = crm_df[crm_df['Date_YearMonth'].str.match(r'^\\d{6}$')]\n",
        "crm_df['Date_YearMonth'] = pd.to_datetime(\n",
        "    crm_df['Date_YearMonth'].str[:4] + '-' + crm_df['Date_YearMonth'].str[4:] + '-01',\n",
        "    format='%Y-%m-%d'\n",
        ")\n",
        "\n",
        "reg_df['Registration_Date'] = pd.to_datetime(reg_df['Registration_Date'])\n",
        "reg_df['Reg_YearMonth'] = reg_df['Registration_Date'].dt.to_period('M').astype(str)\n",
        "\n",
        "sports_df['SportBetSettled_Placed'] = pd.to_datetime(sports_df['SportBetSettled_Placed'])\n",
        "sports_df['SportBetSettled_Settled'] = pd.to_datetime(sports_df['SportBetSettled_Settled'])\n",
        "sports_df['Placed_YearMonth'] = sports_df['SportBetSettled_Placed'].dt.to_period('M').astype(str)\n",
        "sports_df['YearMonth'] = sports_df['Placed_YearMonth']\n",
        "\n",
        "# === 8. Merge com registros e calcular First_Bet ===\n",
        "sports_df = sports_df.merge(reg_df[['Customer_ID', 'Registration_Date', 'Reg_YearMonth']], on='Customer_ID', how='left')\n",
        "sports_df['Is_First_Bet'] = sports_df['Placed_YearMonth'] == sports_df['Reg_YearMonth']\n",
        "\n",
        "# === 9. Tabela 1: KPI por competição ===\n",
        "tabela1 = sports_df.groupby('Event_Class_Name').agg(\n",
        "    Bets=('SportBetSettled_Bet_ID', 'count'),\n",
        "    Customers=('Customer_ID', 'nunique'),\n",
        "    Turnover=('Turnover', 'sum'),\n",
        "    Winnings=('Winnings', 'sum'),\n",
        "    First_Bets=('Is_First_Bet', 'sum')\n",
        ").reset_index()\n",
        "\n",
        "tabela1['Gross_Revenue'] = tabela1['Turnover'] - tabela1['Winnings']\n",
        "tabela1['Avg_Customer_Value'] = tabela1['Turnover'] / tabela1['Customers']\n",
        "tabela1['Avg_Bet_Value'] = tabela1['Turnover'] / tabela1['Bets']\n",
        "\n",
        "# === 10. Tabela 2: CRM Level por mês ===\n",
        "sports_df['Placed_YearMonth'] = pd.to_datetime(sports_df['Placed_YearMonth'] + '-01')\n",
        "sports_df['merge_key'] = sports_df['Customer_ID'].astype(str) + '_' + sports_df['Placed_YearMonth'].dt.strftime('%Y-%m')\n",
        "crm_df['merge_key'] = crm_df['Customer_ID'].astype(str) + '_' + crm_df['Date_YearMonth'].dt.strftime('%Y-%m')\n",
        "\n",
        "sports_df = sports_df.merge(crm_df[['merge_key', 'CRM_Level']], on='merge_key', how='left')\n",
        "\n",
        "months_played = sports_df[['Customer_ID', 'Placed_YearMonth']].drop_duplicates()\n",
        "crm_aux = crm_df[['Customer_ID', 'Date_YearMonth', 'CRM_Level']].copy().sort_values(['Customer_ID', 'Date_YearMonth'])\n",
        "merged = months_played.merge(crm_aux, on='Customer_ID', how='left')\n",
        "merged = merged[merged['Date_YearMonth'] <= merged['Placed_YearMonth']]\n",
        "merged = merged.sort_values(['Customer_ID', 'Placed_YearMonth', 'Date_YearMonth']).groupby(['Customer_ID', 'Placed_YearMonth']).tail(1)\n",
        "\n",
        "sports_df.drop(columns=['CRM_Level'], errors='ignore', inplace=True)\n",
        "sports_df = sports_df.merge(merged[['Customer_ID', 'Placed_YearMonth', 'CRM_Level']], on=['Customer_ID', 'Placed_YearMonth'], how='left')\n",
        "\n",
        "tabela2 = sports_df[['Customer_ID', 'Placed_YearMonth', 'CRM_Level']].drop_duplicates()\n",
        "tabela2 = tabela2.groupby(['Placed_YearMonth', 'CRM_Level']).agg(Customers=('Customer_ID', 'nunique')).reset_index()\n",
        "\n",
        "# === 11. Tabela 3: Novos clientes ===\n",
        "sports_df['Reg_YearMonth'] = sports_df['Reg_YearMonth'].astype(str)\n",
        "sports_novos = sports_df[sports_df['Placed_YearMonth'].dt.to_period('M').astype(str) == sports_df['Reg_YearMonth']]\n",
        "tabela3 = sports_novos[['Customer_ID', 'Placed_YearMonth', 'CRM_Level']].drop_duplicates()\n",
        "tabela3 = tabela3.groupby(['Placed_YearMonth', 'CRM_Level']).agg(Customers=('Customer_ID', 'nunique')).reset_index()\n",
        "\n",
        "# Garantir formatos\n",
        "tabela2['Placed_YearMonth'] = pd.to_datetime(tabela2['Placed_YearMonth'], errors='coerce')\n",
        "tabela3['Placed_YearMonth'] = pd.to_datetime(tabela3['Placed_YearMonth'], errors='coerce')\n",
        "tabela2['Customers'] = tabela2['Customers'].fillna(0).round().astype(int)\n",
        "tabela3['Customers'] = tabela3['Customers'].fillna(0).round().astype(int)\n",
        "\n",
        "# === 12. Gráfico extra ===\n",
        "top_10 = tabela1.sort_values(by='Bets', ascending=False).head(10).sort_values(by='Avg_Customer_Value', ascending=False)\n",
        "\n",
        "plt.figure(figsize=(10, 6))\n",
        "plt.plot(top_10['Event_Class_Name'], top_10['Avg_Customer_Value'], marker='o', linestyle='-', color='darkorange')\n",
        "plt.title('Top 10 Competitions – Average Amount Wagered per Customer')\n",
        "plt.xlabel('Competition')\n",
        "plt.ylabel('Avg Customer Value (€)')\n",
        "plt.xticks(rotation=45)\n",
        "plt.grid(True)\n",
        "plt.tight_layout()\n",
        "plt.savefig(base_path + 'avg_customer_value_chart.png')\n",
        "plt.show()"
      ],
      "metadata": {
        "colab": {
          "base_uri": "https://localhost:8080/",
          "height": 460
        },
        "id": "XaO8AtjAlqc5",
        "outputId": "19d4c977-861b-45d4-9d24-ff0d36fa4a64"
      },
      "execution_count": null,
      "outputs": [
        {
          "output_type": "stream",
          "name": "stdout",
          "text": [
            "Collecting xlsxwriter\n",
            "  Downloading xlsxwriter-3.2.5-py3-none-any.whl.metadata (2.7 kB)\n",
            "Downloading xlsxwriter-3.2.5-py3-none-any.whl (172 kB)\n",
            "\u001b[2K   \u001b[90m━━━━━━━━━━━━━━━━━━━━━━━━━━━━━━━━━━━━━━━━\u001b[0m \u001b[32m172.3/172.3 kB\u001b[0m \u001b[31m4.1 MB/s\u001b[0m eta \u001b[36m0:00:00\u001b[0m\n",
            "\u001b[?25hInstalling collected packages: xlsxwriter\n",
            "Successfully installed xlsxwriter-3.2.5\n"
          ]
        },
        {
          "output_type": "error",
          "ename": "FileNotFoundError",
          "evalue": "[Errno 2] No such file or directory: '/content/drive/MyDrive/Task1 - Kaizen Gaming/CRM Level.csv'",
          "traceback": [
            "\u001b[0;31m---------------------------------------------------------------------------\u001b[0m",
            "\u001b[0;31mFileNotFoundError\u001b[0m                         Traceback (most recent call last)",
            "\u001b[0;32m/tmp/ipython-input-1-1767227768.py\u001b[0m in \u001b[0;36m<cell line: 0>\u001b[0;34m()\u001b[0m\n\u001b[1;32m     10\u001b[0m \u001b[0;34m\u001b[0m\u001b[0m\n\u001b[1;32m     11\u001b[0m \u001b[0;31m# === 4. Carregar os arquivos ===\u001b[0m\u001b[0;34m\u001b[0m\u001b[0;34m\u001b[0m\u001b[0m\n\u001b[0;32m---> 12\u001b[0;31m \u001b[0mcrm_df\u001b[0m \u001b[0;34m=\u001b[0m \u001b[0mpd\u001b[0m\u001b[0;34m.\u001b[0m\u001b[0mread_csv\u001b[0m\u001b[0;34m(\u001b[0m\u001b[0mbase_path\u001b[0m \u001b[0;34m+\u001b[0m \u001b[0;34m'CRM Level.csv'\u001b[0m\u001b[0;34m,\u001b[0m \u001b[0msep\u001b[0m\u001b[0;34m=\u001b[0m\u001b[0;34m';'\u001b[0m\u001b[0;34m)\u001b[0m\u001b[0;34m\u001b[0m\u001b[0;34m\u001b[0m\u001b[0m\n\u001b[0m\u001b[1;32m     13\u001b[0m \u001b[0mreg_df\u001b[0m \u001b[0;34m=\u001b[0m \u001b[0mpd\u001b[0m\u001b[0;34m.\u001b[0m\u001b[0mread_csv\u001b[0m\u001b[0;34m(\u001b[0m\u001b[0mbase_path\u001b[0m \u001b[0;34m+\u001b[0m \u001b[0;34m'Registrations.csv'\u001b[0m\u001b[0;34m,\u001b[0m \u001b[0msep\u001b[0m\u001b[0;34m=\u001b[0m\u001b[0;34m';'\u001b[0m\u001b[0;34m)\u001b[0m\u001b[0;34m\u001b[0m\u001b[0;34m\u001b[0m\u001b[0m\n\u001b[1;32m     14\u001b[0m \u001b[0msports_df\u001b[0m \u001b[0;34m=\u001b[0m \u001b[0mpd\u001b[0m\u001b[0;34m.\u001b[0m\u001b[0mread_csv\u001b[0m\u001b[0;34m(\u001b[0m\u001b[0mbase_path\u001b[0m \u001b[0;34m+\u001b[0m \u001b[0;34m'Sportbook.txt'\u001b[0m\u001b[0;34m,\u001b[0m \u001b[0msep\u001b[0m\u001b[0;34m=\u001b[0m\u001b[0;34m','\u001b[0m\u001b[0;34m,\u001b[0m \u001b[0mencoding\u001b[0m\u001b[0;34m=\u001b[0m\u001b[0;34m'utf-8'\u001b[0m\u001b[0;34m,\u001b[0m \u001b[0mengine\u001b[0m\u001b[0;34m=\u001b[0m\u001b[0;34m'python'\u001b[0m\u001b[0;34m)\u001b[0m\u001b[0;34m\u001b[0m\u001b[0;34m\u001b[0m\u001b[0m\n",
            "\u001b[0;32m/usr/local/lib/python3.11/dist-packages/pandas/io/parsers/readers.py\u001b[0m in \u001b[0;36mread_csv\u001b[0;34m(filepath_or_buffer, sep, delimiter, header, names, index_col, usecols, dtype, engine, converters, true_values, false_values, skipinitialspace, skiprows, skipfooter, nrows, na_values, keep_default_na, na_filter, verbose, skip_blank_lines, parse_dates, infer_datetime_format, keep_date_col, date_parser, date_format, dayfirst, cache_dates, iterator, chunksize, compression, thousands, decimal, lineterminator, quotechar, quoting, doublequote, escapechar, comment, encoding, encoding_errors, dialect, on_bad_lines, delim_whitespace, low_memory, memory_map, float_precision, storage_options, dtype_backend)\u001b[0m\n\u001b[1;32m   1024\u001b[0m     \u001b[0mkwds\u001b[0m\u001b[0;34m.\u001b[0m\u001b[0mupdate\u001b[0m\u001b[0;34m(\u001b[0m\u001b[0mkwds_defaults\u001b[0m\u001b[0;34m)\u001b[0m\u001b[0;34m\u001b[0m\u001b[0;34m\u001b[0m\u001b[0m\n\u001b[1;32m   1025\u001b[0m \u001b[0;34m\u001b[0m\u001b[0m\n\u001b[0;32m-> 1026\u001b[0;31m     \u001b[0;32mreturn\u001b[0m \u001b[0m_read\u001b[0m\u001b[0;34m(\u001b[0m\u001b[0mfilepath_or_buffer\u001b[0m\u001b[0;34m,\u001b[0m \u001b[0mkwds\u001b[0m\u001b[0;34m)\u001b[0m\u001b[0;34m\u001b[0m\u001b[0;34m\u001b[0m\u001b[0m\n\u001b[0m\u001b[1;32m   1027\u001b[0m \u001b[0;34m\u001b[0m\u001b[0m\n\u001b[1;32m   1028\u001b[0m \u001b[0;34m\u001b[0m\u001b[0m\n",
            "\u001b[0;32m/usr/local/lib/python3.11/dist-packages/pandas/io/parsers/readers.py\u001b[0m in \u001b[0;36m_read\u001b[0;34m(filepath_or_buffer, kwds)\u001b[0m\n\u001b[1;32m    618\u001b[0m \u001b[0;34m\u001b[0m\u001b[0m\n\u001b[1;32m    619\u001b[0m     \u001b[0;31m# Create the parser.\u001b[0m\u001b[0;34m\u001b[0m\u001b[0;34m\u001b[0m\u001b[0m\n\u001b[0;32m--> 620\u001b[0;31m     \u001b[0mparser\u001b[0m \u001b[0;34m=\u001b[0m \u001b[0mTextFileReader\u001b[0m\u001b[0;34m(\u001b[0m\u001b[0mfilepath_or_buffer\u001b[0m\u001b[0;34m,\u001b[0m \u001b[0;34m**\u001b[0m\u001b[0mkwds\u001b[0m\u001b[0;34m)\u001b[0m\u001b[0;34m\u001b[0m\u001b[0;34m\u001b[0m\u001b[0m\n\u001b[0m\u001b[1;32m    621\u001b[0m \u001b[0;34m\u001b[0m\u001b[0m\n\u001b[1;32m    622\u001b[0m     \u001b[0;32mif\u001b[0m \u001b[0mchunksize\u001b[0m \u001b[0;32mor\u001b[0m \u001b[0miterator\u001b[0m\u001b[0;34m:\u001b[0m\u001b[0;34m\u001b[0m\u001b[0;34m\u001b[0m\u001b[0m\n",
            "\u001b[0;32m/usr/local/lib/python3.11/dist-packages/pandas/io/parsers/readers.py\u001b[0m in \u001b[0;36m__init__\u001b[0;34m(self, f, engine, **kwds)\u001b[0m\n\u001b[1;32m   1618\u001b[0m \u001b[0;34m\u001b[0m\u001b[0m\n\u001b[1;32m   1619\u001b[0m         \u001b[0mself\u001b[0m\u001b[0;34m.\u001b[0m\u001b[0mhandles\u001b[0m\u001b[0;34m:\u001b[0m \u001b[0mIOHandles\u001b[0m \u001b[0;34m|\u001b[0m \u001b[0;32mNone\u001b[0m \u001b[0;34m=\u001b[0m \u001b[0;32mNone\u001b[0m\u001b[0;34m\u001b[0m\u001b[0;34m\u001b[0m\u001b[0m\n\u001b[0;32m-> 1620\u001b[0;31m         \u001b[0mself\u001b[0m\u001b[0;34m.\u001b[0m\u001b[0m_engine\u001b[0m \u001b[0;34m=\u001b[0m \u001b[0mself\u001b[0m\u001b[0;34m.\u001b[0m\u001b[0m_make_engine\u001b[0m\u001b[0;34m(\u001b[0m\u001b[0mf\u001b[0m\u001b[0;34m,\u001b[0m \u001b[0mself\u001b[0m\u001b[0;34m.\u001b[0m\u001b[0mengine\u001b[0m\u001b[0;34m)\u001b[0m\u001b[0;34m\u001b[0m\u001b[0;34m\u001b[0m\u001b[0m\n\u001b[0m\u001b[1;32m   1621\u001b[0m \u001b[0;34m\u001b[0m\u001b[0m\n\u001b[1;32m   1622\u001b[0m     \u001b[0;32mdef\u001b[0m \u001b[0mclose\u001b[0m\u001b[0;34m(\u001b[0m\u001b[0mself\u001b[0m\u001b[0;34m)\u001b[0m \u001b[0;34m->\u001b[0m \u001b[0;32mNone\u001b[0m\u001b[0;34m:\u001b[0m\u001b[0;34m\u001b[0m\u001b[0;34m\u001b[0m\u001b[0m\n",
            "\u001b[0;32m/usr/local/lib/python3.11/dist-packages/pandas/io/parsers/readers.py\u001b[0m in \u001b[0;36m_make_engine\u001b[0;34m(self, f, engine)\u001b[0m\n\u001b[1;32m   1878\u001b[0m                 \u001b[0;32mif\u001b[0m \u001b[0;34m\"b\"\u001b[0m \u001b[0;32mnot\u001b[0m \u001b[0;32min\u001b[0m \u001b[0mmode\u001b[0m\u001b[0;34m:\u001b[0m\u001b[0;34m\u001b[0m\u001b[0;34m\u001b[0m\u001b[0m\n\u001b[1;32m   1879\u001b[0m                     \u001b[0mmode\u001b[0m \u001b[0;34m+=\u001b[0m \u001b[0;34m\"b\"\u001b[0m\u001b[0;34m\u001b[0m\u001b[0;34m\u001b[0m\u001b[0m\n\u001b[0;32m-> 1880\u001b[0;31m             self.handles = get_handle(\n\u001b[0m\u001b[1;32m   1881\u001b[0m                 \u001b[0mf\u001b[0m\u001b[0;34m,\u001b[0m\u001b[0;34m\u001b[0m\u001b[0;34m\u001b[0m\u001b[0m\n\u001b[1;32m   1882\u001b[0m                 \u001b[0mmode\u001b[0m\u001b[0;34m,\u001b[0m\u001b[0;34m\u001b[0m\u001b[0;34m\u001b[0m\u001b[0m\n",
            "\u001b[0;32m/usr/local/lib/python3.11/dist-packages/pandas/io/common.py\u001b[0m in \u001b[0;36mget_handle\u001b[0;34m(path_or_buf, mode, encoding, compression, memory_map, is_text, errors, storage_options)\u001b[0m\n\u001b[1;32m    871\u001b[0m         \u001b[0;32mif\u001b[0m \u001b[0mioargs\u001b[0m\u001b[0;34m.\u001b[0m\u001b[0mencoding\u001b[0m \u001b[0;32mand\u001b[0m \u001b[0;34m\"b\"\u001b[0m \u001b[0;32mnot\u001b[0m \u001b[0;32min\u001b[0m \u001b[0mioargs\u001b[0m\u001b[0;34m.\u001b[0m\u001b[0mmode\u001b[0m\u001b[0;34m:\u001b[0m\u001b[0;34m\u001b[0m\u001b[0;34m\u001b[0m\u001b[0m\n\u001b[1;32m    872\u001b[0m             \u001b[0;31m# Encoding\u001b[0m\u001b[0;34m\u001b[0m\u001b[0;34m\u001b[0m\u001b[0m\n\u001b[0;32m--> 873\u001b[0;31m             handle = open(\n\u001b[0m\u001b[1;32m    874\u001b[0m                 \u001b[0mhandle\u001b[0m\u001b[0;34m,\u001b[0m\u001b[0;34m\u001b[0m\u001b[0;34m\u001b[0m\u001b[0m\n\u001b[1;32m    875\u001b[0m                 \u001b[0mioargs\u001b[0m\u001b[0;34m.\u001b[0m\u001b[0mmode\u001b[0m\u001b[0;34m,\u001b[0m\u001b[0;34m\u001b[0m\u001b[0;34m\u001b[0m\u001b[0m\n",
            "\u001b[0;31mFileNotFoundError\u001b[0m: [Errno 2] No such file or directory: '/content/drive/MyDrive/Task1 - Kaizen Gaming/CRM Level.csv'"
          ]
        }
      ]
    },
    {
      "cell_type": "code",
      "source": [
        "# === Exportar CSVs ===\n",
        "tabela1.to_csv(base_path + 'kpi_by_competition.csv', index=False)\n",
        "tabela2.to_csv(base_path + 'crm_level_by_month.csv', index=False)\n",
        "tabela3.to_csv(base_path + 'crm_level_by_month_new_customers.csv', index=False)\n",
        "\n",
        "# === Formatos globais ===\n",
        "money_format = None\n",
        "int_format = None\n",
        "date_format = None\n",
        "integer_format_safe = None\n",
        "\n",
        "# === Tabela 1: KPI por competição ===\n",
        "with pd.ExcelWriter(base_path + 'kpi_by_competition.xlsx', engine='xlsxwriter') as writer:\n",
        "    tabela1.to_excel(writer, index=False, sheet_name='KPI_by_Competition')\n",
        "    workbook = writer.book\n",
        "    worksheet = writer.sheets['KPI_by_Competition']\n",
        "\n",
        "    money_format = workbook.add_format({'num_format': '€#,##0.00'})\n",
        "    int_format = workbook.add_format({'num_format': '0'})\n",
        "    date_format = workbook.add_format({'num_format': 'yyyy-mm'})\n",
        "    integer_format_safe = workbook.add_format({'num_format': '0', 'align': 'right'})\n",
        "\n",
        "    worksheet.set_column('A:A', 25)\n",
        "    worksheet.set_column('B:C', 10, int_format)\n",
        "    worksheet.set_column('D:E', 15, money_format)\n",
        "    worksheet.set_column('F:F', 10, int_format)\n",
        "    worksheet.set_column('G:I', 15, money_format)\n",
        "\n",
        "# === Tabela 2: CRM Level por mês ===\n",
        "with pd.ExcelWriter(base_path + 'crm_level_by_month.xlsx', engine='xlsxwriter', datetime_format='yyyy-mm') as writer:\n",
        "    tabela2.to_excel(writer, index=False, sheet_name='CRM_Level_by_Month')\n",
        "    workbook = writer.book\n",
        "    worksheet = writer.sheets['CRM_Level_by_Month']\n",
        "\n",
        "    worksheet.set_column('A:A', 15, date_format)\n",
        "    worksheet.set_column('B:B', 15)\n",
        "    worksheet.set_column('C:C', 12, integer_format_safe)\n",
        "\n",
        "# === Tabela 3: Novos clientes por mês ===\n",
        "with pd.ExcelWriter(base_path + 'crm_level_by_month_new_customers.xlsx', engine='xlsxwriter', datetime_format='yyyy-mm') as writer:\n",
        "    tabela3.to_excel(writer, index=False, sheet_name='New_Customers_CRM')\n",
        "    workbook = writer.book\n",
        "    worksheet = writer.sheets['New_Customers_CRM']\n",
        "\n",
        "    worksheet.set_column('A:A', 15, date_format)\n",
        "    worksheet.set_column('B:B', 15)\n",
        "    worksheet.set_column('C:C', 12, integer_format_safe)"
      ],
      "metadata": {
        "id": "6DSgoNMum8Hf"
      },
      "execution_count": null,
      "outputs": []
    }
  ]
}